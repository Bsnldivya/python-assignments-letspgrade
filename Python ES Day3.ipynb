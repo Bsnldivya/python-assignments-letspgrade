{
 "cells": [
  {
   "cell_type": "code",
   "execution_count": 1,
   "metadata": {},
   "outputs": [
    {
     "name": "stdout",
     "output_type": "stream",
     "text": [
      "enter the value of n:50\n",
      "the sum of n numbers 1275\n"
     ]
    }
   ],
   "source": [
    "#Find sum of numbers using while loop\n",
    "n=int(input(\"enter the value of n:\"))\n",
    "sum=0\n",
    "i=0\n",
    "while i<=n:\n",
    "    sum=sum+i\n",
    "    i=i+1\n",
    "print(\"the sum of n numbers\",sum)\n"
   ]
  },
  {
   "cell_type": "code",
   "execution_count": 3,
   "metadata": {},
   "outputs": [
    {
     "name": "stdout",
     "output_type": "stream",
     "text": [
      "enter a number: 11\n",
      "prime number\n"
     ]
    }
   ],
   "source": [
    "#Find wheather the integer prime or not.\n",
    "num = int(input(\"enter a number: \"))\n",
    " \n",
    "for i in range(2, num):\n",
    "    if num % i  == 0:\n",
    "        print(\"not prime number\")\n",
    "        break\n",
    "else:\n",
    "     print(\"prime number\")\n"
   ]
  },
  {
   "cell_type": "code",
   "execution_count": null,
   "metadata": {},
   "outputs": [],
   "source": []
  }
 ],
 "metadata": {
  "kernelspec": {
   "display_name": "Python 3",
   "language": "python",
   "name": "python3"
  },
  "language_info": {
   "codemirror_mode": {
    "name": "ipython",
    "version": 3
   },
   "file_extension": ".py",
   "mimetype": "text/x-python",
   "name": "python",
   "nbconvert_exporter": "python",
   "pygments_lexer": "ipython3",
   "version": "3.7.4"
  }
 },
 "nbformat": 4,
 "nbformat_minor": 2
}
