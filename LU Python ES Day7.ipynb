{
 "cells": [
  {
   "cell_type": "code",
   "execution_count": 15,
   "metadata": {},
   "outputs": [
    {
     "name": "stdout",
     "output_type": "stream",
     "text": [
      "Original dictionary is : \n",
      "{21: 'FTP', 22: 'SSH', 23: 'TELNET', 80: 'HTTP'}\n",
      "\n",
      "Dictionary after swapping is : {'FTP': 21, 'SSH': 22, 'TELNET': 23, 'HTTP': 80}\n"
     ]
    }
   ],
   "source": [
    "#convert the dictionary into a new dictionary in which keys become values and values become keys.\n",
    "port1 = {21:\"FTP\",22:\"SSH\",23:\"TELNET\",80:\"HTTP\"} \n",
    "print (\"Original dictionary is : \") \n",
    "print(port1)  \n",
    "print() \n",
    "port2 = {} \n",
    "for key, value in port1.items(): \n",
    "   if value in port2: \n",
    "       port2[value].append(key) \n",
    "   else: \n",
    "       port2[value]=key\n",
    "print (\"Dictionary after swapping is :\",dict(port2.items()))"
   ]
  },
  {
   "cell_type": "code",
   "execution_count": null,
   "metadata": {},
   "outputs": [],
   "source": []
  },
  {
   "cell_type": "code",
   "execution_count": null,
   "metadata": {},
   "outputs": [],
   "source": []
  },
  {
   "cell_type": "code",
   "execution_count": null,
   "metadata": {},
   "outputs": [],
   "source": []
  }
 ],
 "metadata": {
  "kernelspec": {
   "display_name": "Python 3",
   "language": "python",
   "name": "python3"
  },
  "language_info": {
   "codemirror_mode": {
    "name": "ipython",
    "version": 3
   },
   "file_extension": ".py",
   "mimetype": "text/x-python",
   "name": "python",
   "nbconvert_exporter": "python",
   "pygments_lexer": "ipython3",
   "version": "3.7.4"
  }
 },
 "nbformat": 4,
 "nbformat_minor": 2
}
