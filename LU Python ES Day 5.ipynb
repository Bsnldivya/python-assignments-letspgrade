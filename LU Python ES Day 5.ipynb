{
 "cells": [
  {
   "cell_type": "code",
   "execution_count": 11,
   "metadata": {},
   "outputs": [
    {
     "name": "stdout",
     "output_type": "stream",
     "text": [
      "[1, 1, 1, 2, 2, 3, 4, 4, 10, 56, 56, 0, 0, 0, 0, 0]\n"
     ]
    }
   ],
   "source": [
    "#num_list=[0,1,2,10,4,1,0,56,2,0,1,3,0,56,0,4] sort increasing order but all zeroes should be at right hand side.\n",
    "def sortlist(num_list):\n",
    "    num_list.sort()\n",
    "    a=[0 for i in range(num_list.count(0))]\n",
    "    x=[i for i in num_list if i !=0]\n",
    "    x.extend(a)\n",
    "    return(x)\n",
    "print(sortlist([0,1,2,10,4,1,0,56,2,0,1,3,0,56,0,4]))\n"
   ]
  },
  {
   "cell_type": "code",
   "execution_count": 23,
   "metadata": {},
   "outputs": [
    {
     "name": "stdout",
     "output_type": "stream",
     "text": [
      "The list 1 is : [10, 20, 40, 60, 70, 80]\n",
      "The list 2 is : [5, 15, 25, 35, 45, 60]\n",
      "The combined sorted list is : [5, 10, 15, 20, 25, 35, 40, 45, 60, 60, 70, 80]\n"
     ]
    }
   ],
   "source": [
    "#list1=[10,20,40,60,70,80] list2=[5,15,25,35,45,60] merge these sorted lists produce one sorted list using one loop.\n",
    "list1 = [10,20,40,60,70,80]\n",
    "list2 = [5,15,25,35,45,60]\n",
    "  \n",
    "print (\"The list 1 is : \" + str(list1)) \n",
    "print (\"The list 2 is : \" + str(list2))  \n",
    "size_1 = len(list1) \n",
    "size_2 = len(list2) \n",
    "  \n",
    "sortedlist = [] \n",
    "i, j = 0, 0\n",
    "  \n",
    "while i < size_1 and j < size_2: \n",
    "    if list1[i] < list2[j]: \n",
    "      sortedlist.append(list1[i]) \n",
    "      i += 1\n",
    "  \n",
    "    else: \n",
    "      sortedlist.append(list2[j]) \n",
    "      j += 1\n",
    "  \n",
    "sortedlist = sortedlist + list1[i:] + list2[j:] \n",
    "  \n",
    "# printing result \n",
    "print (\"The combined sorted list is : \" + str(sortedlist)) "
   ]
  },
  {
   "cell_type": "code",
   "execution_count": null,
   "metadata": {},
   "outputs": [],
   "source": []
  }
 ],
 "metadata": {
  "kernelspec": {
   "display_name": "Python 3",
   "language": "python",
   "name": "python3"
  },
  "language_info": {
   "codemirror_mode": {
    "name": "ipython",
    "version": 3
   },
   "file_extension": ".py",
   "mimetype": "text/x-python",
   "name": "python",
   "nbconvert_exporter": "python",
   "pygments_lexer": "ipython3",
   "version": "3.7.4"
  }
 },
 "nbformat": 4,
 "nbformat_minor": 2
}
